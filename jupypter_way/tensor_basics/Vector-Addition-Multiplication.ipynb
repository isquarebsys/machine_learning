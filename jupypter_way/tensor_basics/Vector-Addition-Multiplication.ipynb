{
 "cells": [
  {
   "cell_type": "markdown",
   "metadata": {},
   "source": [
    "<h1>Addition of Vectors</h1>\n",
    "\n",
    "When you run an operation in TensorFlow, you need to do it in the context of a <b>Session</b>\n",
    "<li>A session <font color=\"blue\">holds the computation graph</font>, which <font color=\"blue\">contains the tensors</font> and the operations</li>\n",
    "\n",
    "1. tf.constant->Creates a constant of the necessary <font color=\"blue\">shape</font> and applies the constant operator to it to fill it with the provided values\n",
    "\n",
    "2. tf.add->Just <font color=\"blue\">puts the add to the computation graph</font>. It <font color=\"red\">DOES NOT evaluate yet</font>\n",
    "\n",
    "3. <font color=\"red\">output.eval()</font>: <b>Runs</b> the computational graph"
   ]
  },
  {
   "cell_type": "code",
   "execution_count": 4,
   "metadata": {},
   "outputs": [
    {
     "name": "stdout",
     "output_type": "stream",
     "text": [
      "result:  [3. 3. 3. 3.]\n"
     ]
    }
   ],
   "source": [
    "from __future__ import print_function\n",
    "\n",
    "import tensorflow as tf\n",
    "\n",
    "# We need a session to interact with Tensor flow\n",
    "with tf.Session():\n",
    "    input1 = tf.constant([1.0, 1.0, 1.0, 1.0])\n",
    "    input2 = tf.constant([2.0, 2.0, 2.0, 2.0])\n",
    "    # tf.add is just an indication of addition. It does not add yet. We have to call .eval()\n",
    "    output = tf.add(input1, input2)\n",
    "    result = output.eval()\n",
    "    print(\"result: \", result)"
   ]
  },
  {
   "cell_type": "markdown",
   "metadata": {},
   "source": []
  },
  {
   "cell_type": "code",
   "execution_count": 7,
   "metadata": {},
   "outputs": [
    {
     "name": "stdout",
     "output_type": "stream",
     "text": [
      "Input:\n[[1. 0. 0. 1.]]\nWeights:\n[[-0.16602631 -0.08566899]\n [ 0.69437003 -0.3418643 ]\n [-0.6089403   1.8519589 ]\n [ 0.56552786 -0.28416568]]\nOutput:\n[[ 0.39950156 -0.36983466]]\n"
     ]
    }
   ],
   "source": [
    "#@test {\"output\": \"ignore\"}\n",
    "import tensorflow as tf\n",
    "import numpy as np\n",
    "with tf.Session():\n",
    "    # we can input data from numpy as we well. This is an alternate for tf.constant\n",
    "    # np.reshape just gives a new shape for an array, viz, [1, 0, 0, 1]. \n",
    "    #  (1,4) is the new shape meaning 1x4 [int or tuple]. See example named arrays under numpy_basics\n",
    "    #   astype converts one format to another. Here it converts to float32\n",
    "    input_features = tf.constant(np.reshape([1, 0, 0, 1], (1, 4)).astype(np.float32))\n",
    "    # This produces output as [[1. 0. 0. 1.]]. meaning 1 is converting to 1.\n",
    "    \n",
    "    # np.random produces random number\n",
    "    weights = tf.constant(np.random.randn(4, 2).astype(np.float32))\n",
    "    # weights is of matrix size 4x2. When multiplied with input, it will provide 1x2 matrix\n",
    "    \n",
    "    # tf.matmul is a MATRIX Multiplication\n",
    "    output = tf.matmul(input_features, weights)\n",
    "    print(\"Input:\")\n",
    "    print(input_features.eval())\n",
    "    print(\"Weights:\")\n",
    "    print(weights.eval())\n",
    "    print(\"Output:\")\n",
    "    # weights is of matrix size 4x2. When multiplied with input, it will provide 1x2 matrix\n",
    "    print(output.eval())"
   ]
  }
 ],
 "metadata": {
  "kernelspec": {
   "display_name": "Python 2",
   "language": "python",
   "name": "python2"
  },
  "language_info": {
   "codemirror_mode": {
    "name": "ipython",
    "version": 2
   },
   "file_extension": ".py",
   "mimetype": "text/x-python",
   "name": "python",
   "nbconvert_exporter": "python",
   "pygments_lexer": "ipython2",
   "version": "2.7.6"
  }
 },
 "nbformat": 4,
 "nbformat_minor": 0
}
