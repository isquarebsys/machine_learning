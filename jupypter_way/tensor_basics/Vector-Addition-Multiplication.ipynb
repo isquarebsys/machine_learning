{
 "cells": [
  {
   "cell_type": "code",
   "execution_count": 4,
   "metadata": {},
   "outputs": [
    {
     "name": "stdout",
     "output_type": "stream",
     "text": [
      "result:  [3. 3. 3. 3.]\n"
     ]
    }
   ],
   "source": [
    "from __future__ import print_function\n",
    "\n",
    "import tensorflow as tf\n",
    "\n",
    "# We need a session to interact with Tensor flow\n",
    "with tf.Session():\n",
    "    input1 = tf.constant([1.0, 1.0, 1.0, 1.0])\n",
    "    input2 = tf.constant([2.0, 2.0, 2.0, 2.0])\n",
    "    # tf.add is just an indication of addition. It does not add yet. We have to call .eval()\n",
    "    output = tf.add(input1, input2)\n",
    "    result = output.eval()\n",
    "    print(\"result: \", result)"
   ]
  },
  {
   "cell_type": "code",
   "execution_count": 6,
   "metadata": {},
   "outputs": [
    {
     "name": "stdout",
     "output_type": "stream",
     "text": [
      "Input:\n[[1. 0. 0. 1.]]\nWeights:\n[[-0.05687786  0.7512151 ]\n [-1.2581551   0.7968613 ]\n [-0.49794668 -1.1714389 ]\n [ 0.8781449   0.56134665]]\nOutput:\n[[0.82126707 1.3125618 ]]\n"
     ]
    }
   ],
   "source": [
    "#@test {\"output\": \"ignore\"}\n",
    "import tensorflow as tf\n",
    "import numpy as np\n",
    "with tf.Session():\n",
    "    # we can input data from numpy as we well. This is an alternate for tf.constant\n",
    "    # np.reshape just gives a new shape for an array, viz, [1, 0, 0, 1]. (1,4) is the new shape\n",
    "    #   [int or tuple]. See example named arrays\n",
    "    #   astype converts one format to another. Here it converts to float32\n",
    "    input_features = tf.constant(np.reshape([1, 0, 0, 1], (1, 4)).astype(np.float32))\n",
    "    \n",
    "    # np.random produces random number\n",
    "    weights = tf.constant(np.random.randn(4, 2).astype(np.float32))\n",
    "    \n",
    "    # tf.matmul is a MATRIX Multiplication\n",
    "    output = tf.matmul(input_features, weights)\n",
    "    print(\"Input:\")\n",
    "    print(input_features.eval())\n",
    "    print(\"Weights:\")\n",
    "    print(weights.eval())\n",
    "    print(\"Output:\")\n",
    "    print(output.eval())"
   ]
  }
 ],
 "metadata": {
  "kernelspec": {
   "display_name": "Python 2",
   "language": "python",
   "name": "python2"
  },
  "language_info": {
   "codemirror_mode": {
    "name": "ipython",
    "version": 2
   },
   "file_extension": ".py",
   "mimetype": "text/x-python",
   "name": "python",
   "nbconvert_exporter": "python",
   "pygments_lexer": "ipython2",
   "version": "2.7.6"
  }
 },
 "nbformat": 4,
 "nbformat_minor": 0
}
