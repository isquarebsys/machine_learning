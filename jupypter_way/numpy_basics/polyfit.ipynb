{
 "cells": [
  {
   "cell_type": "markdown",
   "metadata": {},
   "source": [
    "<h1>polyfit</h1>\n",
    "\n",
    "## Usage\n",
    "<li>Find m and b for the equation y=mx+b</li>\n",
    "<li>Find <font color=\"blue\">points which are outside the range</font></li>"
   ]
  },
  {
   "cell_type": "code",
   "execution_count": 5,
   "metadata": {
    "collapsed": true
   },
   "outputs": [
    {
     "data": {
      "image/png": "[encoded data removed]",
      "text/plain": [
       "<Figure size 432x288 with 1 Axes>"
      ]
     },
     "metadata": {},
     "output_type": "display_data"
    },
    {
     "name": "stdout",
     "output_type": "stream",
     "text": [
      "[  1.40241735 -21.23284749]\n"
     ]
    }
   ],
   "source": [
    "import matplotlib.pyplot as plt\n",
    "import numpy as np\n",
    "\n",
    "%matplotlib inline\n",
    "lines = [\n",
    "  (50, 50, 40, 35),\n",
    "  (52, 52, 42, 37),\n",
    "  (38, 30, 25, 15),\n",
    "]\n",
    "\n",
    "for x1, y1, x2, y2 in lines:\n",
    "    plt.plot((x1, x2), (y1, y2), 'g')\n",
    "\n",
    "plt.axis([0, 60, 0, 60])\n",
    "plt.show()\n",
    "\n",
    "x = []\n",
    "y = []\n",
    "for x1, y1, x2, y2 in lines:\n",
    "    x += [x1, x2]\n",
    "    y += [y1, y2]\n",
    "    \n",
    "    z = np.polyfit(x, y, 1)\n",
    "print(z)\n",
    "# We will answer as [1.40241735 -21.23284749] \n",
    "#   which are the coeficients for y = mx + b, so m=1.40241735 and b=-21.23284749"
   ]
  }
 ],
 "metadata": {
  "kernelspec": {
   "display_name": "Python 2",
   "language": "python",
   "name": "python2"
  },
  "language_info": {
   "codemirror_mode": {
    "name": "ipython",
    "version": 2
   },
   "file_extension": ".py",
   "mimetype": "text/x-python",
   "name": "python",
   "nbconvert_exporter": "python",
   "pygments_lexer": "ipython2",
   "version": "2.7.6"
  }
 },
 "nbformat": 4,
 "nbformat_minor": 0
}
