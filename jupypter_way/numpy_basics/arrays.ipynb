{
 "cells": [
  {
   "cell_type": "code",
   "execution_count": 5,
   "metadata": {
    "collapsed": true
   },
   "outputs": [
    {
     "data": {
      "text/plain": [
       "array([1, 2, 3, 4, 5, 6])"
      ]
     },
     "execution_count": 5,
     "metadata": {},
     "output_type": "execute_result"
    }
   ],
   "source": [
    "# https://docs.scipy.org/doc/numpy/reference/generated/numpy.reshape.html\n",
    "import numpy as np\n",
    "\n",
    "# np.reshape just gives a new shape for an array, viz, [1,2,3], [4,5,6]\n",
    "# (6) is the new shape Unit will be int or tuple \n",
    "# In this case, we combine the 2 arrays to a single array\n",
    "a = np.array([[1,2,3], [4,5,6]])\n",
    "np.reshape(a, 6,order='C')"
   ]
  },
  {
   "cell_type": "code",
   "execution_count": 7,
   "metadata": {},
   "outputs": [
    {
     "data": {
      "text/plain": [
       "array([1, 2, 4, 5, 6])"
      ]
     },
     "execution_count": 7,
     "metadata": {},
     "output_type": "execute_result"
    }
   ],
   "source": [
    "# https://docs.scipy.org/doc/numpy/reference/generated/numpy.reshape.html\n",
    "import numpy as np\n",
    "b=np.array([1, 2, 4, 5, 6])\n",
    "# order='F' is optional is used to indicate Fortran style. C means C like index\n",
    "np.reshape(b, 5, order='F')"
   ]
  }
 ],
 "metadata": {
  "kernelspec": {
   "display_name": "Python 2",
   "language": "python",
   "name": "python2"
  },
  "language_info": {
   "codemirror_mode": {
    "name": "ipython",
    "version": 2
   },
   "file_extension": ".py",
   "mimetype": "text/x-python",
   "name": "python",
   "nbconvert_exporter": "python",
   "pygments_lexer": "ipython2",
   "version": "2.7.6"
  }
 },
 "nbformat": 4,
 "nbformat_minor": 0
}
