{
 "cells": [
  {
   "cell_type": "heading",
   "metadata": {},
   "level": 1,
   "source": [
    "<h1>Adding 2 Vectors</h1>"
   ]
  },
  {
   "cell_type": "markdown",
   "metadata": {},
   "source": [
    "When you run an operation in TensorFlow, you need to do it in the context of a <b>Session</b>\n",
    "<li>A session <font color=\"blue\">holds the computation graph</font>, which contains the tensors and the operations</li>\n",
    "\n",
    "1. tf.constant->Creates a constant of the necessary <font color=\"blue\">shape</font> and applies the constant operator to it to fill it with the provided values\n",
    "\n",
    "2. tf.add->Just <font color=\"blue\">puts the add to the computation graph</font>. It <font color=\"red\">DOES NOT evaluate yet</font>\n",
    "\n",
    "3. output.eval(): Runs the computational graph"
   ]
  },
  {
   "cell_type": "code",
   "execution_count": 2,
   "metadata": {},
   "outputs": [
    {
     "name": "stdout",
     "output_type": "stream",
     "text": [
      "result:  [3. 3. 3. 3.]\n"
     ]
    }
   ],
   "source": [
    "from __future__ import print_function\n",
    "\n",
    "import tensorflow as tf\n",
    "\n",
    "with tf.Session():\n",
    "    input1 = tf.constant([1.0, 1.0, 1.0, 1.0])\n",
    "    input2 = tf.constant([2.0, 2.0, 2.0, 2.0])\n",
    "    output = tf.add(input1, input2)\n",
    "    result = output.eval()\n",
    "    print(\"result: \", result)"
   ]
  },
  {
   "cell_type": "markdown",
   "metadata": {},
   "source": [
    "<h1>Multiply Vectors</h1> \n",
    "\n",
    "<li>We are taking a 1 x 4 vector [1 0 0 1] and multiplying it by a <b>4 by 2</b> </li>\n",
    "<li>4 by 2 matrix is full of random values from a normal distribution (mean 0, stdev 1)</li>\n",
    "\n",
    "<h1>This is the BASIS of a NEURAL NETWORK</h1> \n",
    "<li>If we are reading in the input features, along with some expected output, and <font color=\"blue\">change the weights based on the error with the output each time</font>, thats a neural network</li>\n",
    "\n"
   ]
  },
  {
   "cell_type": "code",
   "execution_count": 3,
   "metadata": {},
   "outputs": [
    {
     "name": "stdout",
     "output_type": "stream",
     "text": [
      "Input:\n[[1. 0. 0. 1.]]\nWeights:\n[[ 0.41224805 -0.86906415]\n [-1.020707   -0.03951629]\n [ 1.2193007   0.13509345]\n [-0.45341712  1.1272421 ]]\nOutput:\n[[-0.04116908  0.25817794]]\n"
     ]
    }
   ],
   "source": [
    "#@test {\"output\": \"ignore\"}\n",
    "import tensorflow as tf\n",
    "import numpy as np\n",
    "\n",
    "with tf.Session():\n",
    "    input_features = tf.constant(np.reshape([1, 0, 0, 1], (1, 4)).astype(np.float32))\n",
    "    weights = tf.constant(np.random.randn(4, 2).astype(np.float32))\n",
    "    output = tf.matmul(input_features, weights)\n",
    "    print(\"Input:\")\n",
    "    print(input_features.eval())\n",
    "    print(\"Weights:\")\n",
    "    print(weights.eval())\n",
    "    print(\"Output:\")\n",
    "    print(output.eval())"
   ]
  }
 ],
 "metadata": {
  "kernelspec": {
   "display_name": "Python 2",
   "language": "python",
   "name": "python2"
  },
  "language_info": {
   "codemirror_mode": {
    "name": "ipython",
    "version": 2
   },
   "file_extension": ".py",
   "mimetype": "text/x-python",
   "name": "python",
   "nbconvert_exporter": "python",
   "pygments_lexer": "ipython2",
   "version": "2.7.6"
  }
 },
 "nbformat": 4,
 "nbformat_minor": 0
}
