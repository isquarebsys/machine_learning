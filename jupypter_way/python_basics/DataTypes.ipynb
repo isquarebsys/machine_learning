{
 "cells": [
  {
   "cell_type": "markdown",
   "metadata": {
    "collapsed": true
   },
   "source": [
    "# Dictionary is like a <font color=\"blue\">Hash Map</font> "
   ]
  },
  {
   "cell_type": "code",
   "execution_count": 1,
   "metadata": {
    "collapsed": true
   },
   "outputs": [
    {
     "name": "stdout",
     "output_type": "stream",
     "text": [
      "This is one\nThis is two\n{'name': 'john', 'code': 6734, 'dept': 'sales'}\ndict_keys(['name', 'code', 'dept'])\ndict_values(['john', 6734, 'sales'])\n"
     ]
    }
   ],
   "source": [
    "# A dictionary is like a Hash Map\n",
    "\n",
    "dict = {}\n",
    "dict['one'] = \"This is one\"\n",
    "dict[2]     = \"This is two\"\n",
    "\n",
    "tinydict = {'name': 'john','code':6734, 'dept': 'sales'}\n",
    "\n",
    "\n",
    "print (dict['one'])       # Prints value for 'one' key\n",
    "print (dict[2])           # Prints value for 2 key\n",
    "print (tinydict)          # Prints complete dictionary\n",
    "print (tinydict.keys())   # Prints all the keys\n",
    "print (tinydict.values()) # Prints all the values"
   ]
  },
  {
   "cell_type": "markdown",
   "metadata": {},
   "source": [
    "<h1>Tuples are <font color=\"red\">READ ONLY</font> Lists</h1>"
   ]
  },
  {
   "cell_type": "code",
   "execution_count": 5,
   "metadata": {},
   "outputs": [
    {
     "name": "stdout",
     "output_type": "stream",
     "text": [
      "('abcd', 786, 2.23, 'john', 70.2)\nabcd\n(786, 2.23)\n(2.23, 'john', 70.2)\n(123, 'john', 123, 'john')\n('abcd', 786, 2.23, 'john', 70.2, 123, 'john')\n"
     ]
    }
   ],
   "source": [
    "# Tuple is a READ-ONLY list. It can NOT be updated\n",
    "\n",
    "tuple = ( 'abcd', 786 , 2.23, 'john', 70.2)\n",
    "tinytuple = (123, 'john')\n",
    "\n",
    "# Prints complete list\n",
    "print(tuple)\n",
    "# Prints first element of the list\n",
    "print(tuple[0])\n",
    "# Prints elements starting from 2nd till 3rd\n",
    "print(tuple[1:3])\n",
    "# Prints elements starting from 3rd element\n",
    "print (tuple[2:])\n",
    "# Prints list two times\n",
    "print (tinytuple * 2)\n",
    "# Prints concatenated lists\n",
    "print (tuple + tinytuple)"
   ]
  },
  {
   "cell_type": "markdown",
   "metadata": {},
   "source": [
    "#List\n",
    "\n",
    "<li><font color=\"green\">Lists can be updated</font></li>"
   ]
  },
  {
   "cell_type": "code",
   "execution_count": 11,
   "metadata": {},
   "outputs": [
    {
     "name": "stdout",
     "output_type": "stream",
     "text": [
      "list1[0]:  physics\nlist2[1:5]:  [2, 3, 4, 5]\n3\nNew value available at index 2 : \n2001\nAfter deleting value at index 2 : \n['physics', 'chemistry', 2000]\n"
     ]
    }
   ],
   "source": [
    "list1 = ['physics', 'chemistry', 1997, 2000];\n",
    "list2 = [1, 2, 3, 4, 5, 6, 7 ];\n",
    "print (\"list1[0]: \", list1[0])\n",
    "print (\"list2[1:5]: \", list2[1:5])\n",
    "\n",
    "# Update \n",
    "print (list2[2])\n",
    "list2[2] = 2001;\n",
    "print (\"New value available at index 2 : \")\n",
    "print (list2[2])\n",
    "\n",
    "# Delete\n",
    "del list1[2];\n",
    "print (\"After deleting value at index 2 : \")\n",
    "print (list1)"
   ]
  },
  {
   "cell_type": "code",
   "execution_count": null,
   "metadata": {},
   "outputs": [],
   "source": []
  }
 ],
 "metadata": {
  "kernelspec": {
   "display_name": "Python 2",
   "language": "python",
   "name": "python2"
  },
  "language_info": {
   "codemirror_mode": {
    "name": "ipython",
    "version": 2
   },
   "file_extension": ".py",
   "mimetype": "text/x-python",
   "name": "python",
   "nbconvert_exporter": "python",
   "pygments_lexer": "ipython2",
   "version": "2.7.6"
  }
 },
 "nbformat": 4,
 "nbformat_minor": 0
}
